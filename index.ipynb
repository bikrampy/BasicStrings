{
 "cells": [
  {
   "cell_type": "markdown",
   "id": "115d9e82",
   "metadata": {},
   "source": [
    "1. Remove outermost Paranthesis."
   ]
  },
  {
   "cell_type": "code",
   "execution_count": 47,
   "id": "5c555814",
   "metadata": {},
   "outputs": [
    {
     "name": "stdout",
     "output_type": "stream",
     "text": [
      "(())\n"
     ]
    }
   ],
   "source": [
    "string = \"((()))\"\n",
    "arr = []\n",
    "result = \"\"\n",
    "for i in string:\n",
    "    if i == \"(\":\n",
    "        if len(arr) == 0:\n",
    "            arr.append(i)\n",
    "        else:\n",
    "            arr.append(i)\n",
    "            result = result + i\n",
    "    elif i == \")\":\n",
    "        arr.pop()\n",
    "        if len(arr) != 0:\n",
    "            result = result + i\n",
    "print(result)"
   ]
  },
  {
   "cell_type": "markdown",
   "id": "9987fda6",
   "metadata": {},
   "source": [
    "2. Reverse Words in a String."
   ]
  },
  {
   "cell_type": "code",
   "execution_count": 49,
   "id": "33eff4f8",
   "metadata": {},
   "outputs": [
    {
     "name": "stdout",
     "output_type": "stream",
     "text": [
      "hello world\n"
     ]
    }
   ],
   "source": [
    "string = \"world   hello \"\n",
    "ans = \"\"\n",
    "string = string[::-1]\n",
    "# print(string)\n",
    "i = 0\n",
    "while i < len(string):\n",
    "    words = \"\"\n",
    "    while i < len(string) and string[i] != \" \":\n",
    "        words += string[i]\n",
    "        i += 1\n",
    "    words = words[::-1]\n",
    "    if len(words) > 0:\n",
    "        ans = ans + \" \" + words\n",
    "    i += 1\n",
    "print(ans.strip())"
   ]
  },
  {
   "cell_type": "markdown",
   "id": "5c8026ac",
   "metadata": {},
   "source": [
    "3. Largest Odd Number in String."
   ]
  },
  {
   "cell_type": "code",
   "execution_count": 32,
   "id": "2a0d3401",
   "metadata": {},
   "outputs": [
    {
     "name": "stdout",
     "output_type": "stream",
     "text": [
      "26347\n"
     ]
    }
   ],
   "source": [
    "s = \"26347\"\n",
    "a = \"\"\n",
    "for i in range(len(s)-1, -1, -1):\n",
    "    if int(s[i]) % 2 != 0:\n",
    "        a = s[0:(i+1)]\n",
    "        break\n",
    "print(a)"
   ]
  },
  {
   "cell_type": "markdown",
   "id": "5fbee2af",
   "metadata": {},
   "source": [
    "4. Longest Common Prefix."
   ]
  },
  {
   "cell_type": "code",
   "execution_count": 50,
   "id": "a455718d",
   "metadata": {},
   "outputs": [
    {
     "name": "stdout",
     "output_type": "stream",
     "text": [
      "ab\n"
     ]
    }
   ],
   "source": [
    "strs = ['abc', 'abd']\n",
    "if not strs:\n",
    "    print(\"\")\n",
    "else:\n",
    "    prefix = strs[0]\n",
    "    for s in strs[1:]:\n",
    "        while not s.startswith(prefix):\n",
    "            prefix = prefix[:-1]\n",
    "    print(prefix)"
   ]
  },
  {
   "cell_type": "markdown",
   "id": "c6559c81",
   "metadata": {},
   "source": [
    "5. Isomorphic String."
   ]
  },
  {
   "cell_type": "code",
   "execution_count": null,
   "id": "be7f8348",
   "metadata": {},
   "outputs": [
    {
     "name": "stdout",
     "output_type": "stream",
     "text": [
      "{'b': 'k', 'a': 'i', 'd': 'p'}\n"
     ]
    }
   ],
   "source": [
    "s = \"babd\"\n",
    "t = \"kikp\"\n",
    "dic = {\n",
    "}\n",
    "if len(s) != len(t):\n",
    "    print(False)\n",
    "else:\n",
    "    for i in range(0, len(s)):\n",
    "        if s[i] not in dic:\n",
    "            if t[i] not in dic.values():\n",
    "                dic[s[i]] = t[i]\n",
    "            else:\n",
    "                print(False)\n",
    "        else:\n",
    "            char = dic[s[i]]\n",
    "            if char != t[i]:\n",
    "                print(False)\n",
    "print(dic)"
   ]
  },
  {
   "cell_type": "markdown",
   "id": "efbc9eef",
   "metadata": {},
   "source": [
    "6. Rotate String."
   ]
  },
  {
   "cell_type": "code",
   "execution_count": 63,
   "id": "295de76e",
   "metadata": {},
   "outputs": [
    {
     "name": "stdout",
     "output_type": "stream",
     "text": [
      "False\n"
     ]
    }
   ],
   "source": [
    "s = \"abcde\"\n",
    "goal = \"xyz\"\n",
    "i = len(s)\n",
    "while i > 0:\n",
    "    s = s[-1] + s[0:len(s)-1]\n",
    "    if s == goal:\n",
    "        print(True)\n",
    "    i -= 1\n",
    "print(False)"
   ]
  },
  {
   "cell_type": "markdown",
   "id": "a80e1a62",
   "metadata": {},
   "source": [
    "7. Valid Anagram."
   ]
  },
  {
   "cell_type": "code",
   "execution_count": 70,
   "id": "8d1f2551",
   "metadata": {},
   "outputs": [
    {
     "name": "stdout",
     "output_type": "stream",
     "text": [
      "False\n"
     ]
    }
   ],
   "source": [
    "s = \"anagram\"\n",
    "t = \"nagaraa\"\n",
    "mapS = {\n",
    "}\n",
    "mapT = {\n",
    "}\n",
    "for i in s:\n",
    "    if i not in mapS:\n",
    "        mapS[i] = 1\n",
    "    else:\n",
    "        mapS[i] += 1\n",
    "for i in t:\n",
    "    if i not in mapT:\n",
    "        mapT[i] = 1\n",
    "    else:\n",
    "        mapT[i] += 1\n",
    "if mapS == mapT:\n",
    "    print(True)\n",
    "else:\n",
    "    print(False)"
   ]
  }
 ],
 "metadata": {
  "kernelspec": {
   "display_name": "Python 3",
   "language": "python",
   "name": "python3"
  },
  "language_info": {
   "codemirror_mode": {
    "name": "ipython",
    "version": 3
   },
   "file_extension": ".py",
   "mimetype": "text/x-python",
   "name": "python",
   "nbconvert_exporter": "python",
   "pygments_lexer": "ipython3",
   "version": "3.13.3"
  }
 },
 "nbformat": 4,
 "nbformat_minor": 5
}
